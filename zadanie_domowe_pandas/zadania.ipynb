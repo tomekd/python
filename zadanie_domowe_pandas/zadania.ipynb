{
 "cells": [
  {
   "cell_type": "markdown",
   "metadata": {},
   "source": [
    "1. Załaduj bibliotekę `pandas`."
   ]
  },
  {
   "cell_type": "code",
   "execution_count": 3,
   "metadata": {},
   "outputs": [],
   "source": [
    "import pandas as pd"
   ]
  },
  {
   "cell_type": "markdown",
   "metadata": {},
   "source": [
    "2. Wczytaj dane z pliku *dane_mieszkania.csv* do zmiennej i wyświetl 5 pierwszych wierczy."
   ]
  },
  {
   "cell_type": "code",
   "execution_count": 4,
   "metadata": {},
   "outputs": [
    {
     "data": {
      "text/plain": "   Unnamed: 0  Id  Expected  Rooms  SqrMeters  Floor  \\\n0           0   1    269000      3      55.00      1   \n1           1   2    320000      3      79.00     10   \n2           2   3    146000      1      31.21      1   \n3           3   4    189000      2      44.00      2   \n4           4   5    480240      2      65.25      1   \n\n                                            Location  \n0                                      Poznań Zawady  \n1                     Poznań Rataje ul. Orła Bialego  \n2  Poznań Nowe Miasto ul. Kawalerka W Nowym Bloku...  \n3  Poznań Grunwald Ogrody Jeżyce Centrum Łazarz u...  \n4                       Poznań ul. Droga Dębińska 19  ",
      "text/html": "<div>\n<style scoped>\n    .dataframe tbody tr th:only-of-type {\n        vertical-align: middle;\n    }\n\n    .dataframe tbody tr th {\n        vertical-align: top;\n    }\n\n    .dataframe thead th {\n        text-align: right;\n    }\n</style>\n<table border=\"1\" class=\"dataframe\">\n  <thead>\n    <tr style=\"text-align: right;\">\n      <th></th>\n      <th>Unnamed: 0</th>\n      <th>Id</th>\n      <th>Expected</th>\n      <th>Rooms</th>\n      <th>SqrMeters</th>\n      <th>Floor</th>\n      <th>Location</th>\n    </tr>\n  </thead>\n  <tbody>\n    <tr>\n      <th>0</th>\n      <td>0</td>\n      <td>1</td>\n      <td>269000</td>\n      <td>3</td>\n      <td>55.00</td>\n      <td>1</td>\n      <td>Poznań Zawady</td>\n    </tr>\n    <tr>\n      <th>1</th>\n      <td>1</td>\n      <td>2</td>\n      <td>320000</td>\n      <td>3</td>\n      <td>79.00</td>\n      <td>10</td>\n      <td>Poznań Rataje ul. Orła Bialego</td>\n    </tr>\n    <tr>\n      <th>2</th>\n      <td>2</td>\n      <td>3</td>\n      <td>146000</td>\n      <td>1</td>\n      <td>31.21</td>\n      <td>1</td>\n      <td>Poznań Nowe Miasto ul. Kawalerka W Nowym Bloku...</td>\n    </tr>\n    <tr>\n      <th>3</th>\n      <td>3</td>\n      <td>4</td>\n      <td>189000</td>\n      <td>2</td>\n      <td>44.00</td>\n      <td>2</td>\n      <td>Poznań Grunwald Ogrody Jeżyce Centrum Łazarz u...</td>\n    </tr>\n    <tr>\n      <th>4</th>\n      <td>4</td>\n      <td>5</td>\n      <td>480240</td>\n      <td>2</td>\n      <td>65.25</td>\n      <td>1</td>\n      <td>Poznań ul. Droga Dębińska 19</td>\n    </tr>\n  </tbody>\n</table>\n</div>"
     },
     "execution_count": 4,
     "metadata": {},
     "output_type": "execute_result"
    }
   ],
   "source": [
    "df = pd.read_csv('dane_mieszkania.csv')\n",
    "df.head()"
   ]
  },
  {
   "cell_type": "markdown",
   "metadata": {},
   "source": [
    "3. Znajdź informacje ilu pokojowe mieszkania są najpopularniejsze i ile ich jest."
   ]
  },
  {
   "cell_type": "code",
   "execution_count": 5,
   "metadata": {},
   "outputs": [
    {
     "data": {
      "text/plain": "2    2208\nName: Rooms, dtype: int64"
     },
     "execution_count": 5,
     "metadata": {},
     "output_type": "execute_result"
    }
   ],
   "source": [
    "df['Rooms'].value_counts().head(1)"
   ]
  },
  {
   "cell_type": "markdown",
   "metadata": {},
   "source": [
    "4. Znajdź 10 najtańszych mieszkań."
   ]
  },
  {
   "cell_type": "code",
   "execution_count": 6,
   "metadata": {},
   "outputs": [
    {
     "data": {
      "text/plain": "      Unnamed: 0    Id  Expected  Rooms  SqrMeters  Floor  \\\n971          971   972         1      5      99.76      1   \n4528        4528  4529      4000      3      85.50      2   \n1175        1175  1176     68000      1      33.10      1   \n4889        4889  4890     79000      2      38.10     10   \n470          470   471     85000      1      37.00      3   \n898          898   899     90000      1      24.26      4   \n2055        2055  2056     94000      2      54.00      2   \n4723        4723  4724     98000      2      50.00      1   \n3550        3550  3551     98000      2      53.00      2   \n911          911   912     99000      2      40.50      3   \n\n                                               Location  \n971   Poznań Kameralne Osiedle Domów Energooszczędny...  \n4528                                 Poznań ul. Ułańska  \n1175                  Poznań Naramowice ul. Naramowicka  \n4889                   Poznań Nowe Miasto ul. Katowicka  \n470                   Poznań Nowe Miasto ul. Folwarczna  \n898                   Poznań Jeżyce ul. Szamarzewskiego  \n2055              Poznań Okolica Rybno Rybno ul. Kłecko  \n4723               Poznań Wilda ul. Robocza/Sikorskiego  \n3550                    Poznań Koziegłowy ul. Os. Leśne  \n911                    Poznań Nowe Miasto ul. Katowicka  ",
      "text/html": "<div>\n<style scoped>\n    .dataframe tbody tr th:only-of-type {\n        vertical-align: middle;\n    }\n\n    .dataframe tbody tr th {\n        vertical-align: top;\n    }\n\n    .dataframe thead th {\n        text-align: right;\n    }\n</style>\n<table border=\"1\" class=\"dataframe\">\n  <thead>\n    <tr style=\"text-align: right;\">\n      <th></th>\n      <th>Unnamed: 0</th>\n      <th>Id</th>\n      <th>Expected</th>\n      <th>Rooms</th>\n      <th>SqrMeters</th>\n      <th>Floor</th>\n      <th>Location</th>\n    </tr>\n  </thead>\n  <tbody>\n    <tr>\n      <th>971</th>\n      <td>971</td>\n      <td>972</td>\n      <td>1</td>\n      <td>5</td>\n      <td>99.76</td>\n      <td>1</td>\n      <td>Poznań Kameralne Osiedle Domów Energooszczędny...</td>\n    </tr>\n    <tr>\n      <th>4528</th>\n      <td>4528</td>\n      <td>4529</td>\n      <td>4000</td>\n      <td>3</td>\n      <td>85.50</td>\n      <td>2</td>\n      <td>Poznań ul. Ułańska</td>\n    </tr>\n    <tr>\n      <th>1175</th>\n      <td>1175</td>\n      <td>1176</td>\n      <td>68000</td>\n      <td>1</td>\n      <td>33.10</td>\n      <td>1</td>\n      <td>Poznań Naramowice ul. Naramowicka</td>\n    </tr>\n    <tr>\n      <th>4889</th>\n      <td>4889</td>\n      <td>4890</td>\n      <td>79000</td>\n      <td>2</td>\n      <td>38.10</td>\n      <td>10</td>\n      <td>Poznań Nowe Miasto ul. Katowicka</td>\n    </tr>\n    <tr>\n      <th>470</th>\n      <td>470</td>\n      <td>471</td>\n      <td>85000</td>\n      <td>1</td>\n      <td>37.00</td>\n      <td>3</td>\n      <td>Poznań Nowe Miasto ul. Folwarczna</td>\n    </tr>\n    <tr>\n      <th>898</th>\n      <td>898</td>\n      <td>899</td>\n      <td>90000</td>\n      <td>1</td>\n      <td>24.26</td>\n      <td>4</td>\n      <td>Poznań Jeżyce ul. Szamarzewskiego</td>\n    </tr>\n    <tr>\n      <th>2055</th>\n      <td>2055</td>\n      <td>2056</td>\n      <td>94000</td>\n      <td>2</td>\n      <td>54.00</td>\n      <td>2</td>\n      <td>Poznań Okolica Rybno Rybno ul. Kłecko</td>\n    </tr>\n    <tr>\n      <th>4723</th>\n      <td>4723</td>\n      <td>4724</td>\n      <td>98000</td>\n      <td>2</td>\n      <td>50.00</td>\n      <td>1</td>\n      <td>Poznań Wilda ul. Robocza/Sikorskiego</td>\n    </tr>\n    <tr>\n      <th>3550</th>\n      <td>3550</td>\n      <td>3551</td>\n      <td>98000</td>\n      <td>2</td>\n      <td>53.00</td>\n      <td>2</td>\n      <td>Poznań Koziegłowy ul. Os. Leśne</td>\n    </tr>\n    <tr>\n      <th>911</th>\n      <td>911</td>\n      <td>912</td>\n      <td>99000</td>\n      <td>2</td>\n      <td>40.50</td>\n      <td>3</td>\n      <td>Poznań Nowe Miasto ul. Katowicka</td>\n    </tr>\n  </tbody>\n</table>\n</div>"
     },
     "execution_count": 6,
     "metadata": {},
     "output_type": "execute_result"
    }
   ],
   "source": [
    "df.sort_values(by='Expected').head(10)"
   ]
  },
  {
   "cell_type": "markdown",
   "metadata": {},
   "source": [
    "5. Napisz funkcje ``find_borough(desc)``, która przyjmuje 1 argument typu *string* i zwróci jedną z dzielnic zdefiniowaną w liście ``dzielnice``. Funkcja ma zwrócić pierwszą (wzgledem kolejności) nazwę dzielnicy, która jest zawarta w ``desc``. Jeżeli żadna nazwa nie została odnaleziona, zwróć napis *Inne*."
   ]
  },
  {
   "cell_type": "code",
   "execution_count": 9,
   "metadata": {},
   "outputs": [
    {
     "data": {
      "text/plain": "'Piątkowo'"
     },
     "execution_count": 9,
     "metadata": {},
     "output_type": "execute_result"
    }
   ],
   "source": [
    "def find_borough(desc):\n",
    "    dzielnice = ['Stare Miasto',\n",
    "                 'Wilda',\n",
    "                 'Jeżyce',\n",
    "                 'Rataje',\n",
    "                 'Piątkowo',\n",
    "                 'Winogrady',\n",
    "                 'Miłostowo',\n",
    "                 'Dębiec']\n",
    "    min_index = -1\n",
    "    selected_borough = 'Inne'\n",
    "\n",
    "    for b in dzielnice:\n",
    "        current_index = desc.find(b)\n",
    "        if -1 < current_index and (current_index < min_index or min_index == -1):\n",
    "            selected_borough = b\n",
    "            min_index = current_index\n",
    "\n",
    "    return selected_borough"
   ]
  },
  {
   "cell_type": "markdown",
   "metadata": {},
   "source": [
    "6. Dodaj kolumnę ``Borough``, która będzie zawierać informacje o dzielnicach i powstanie z kolumny ``Localization``. Wykorzystaj do tego funkcję ``find_borough``."
   ]
  },
  {
   "cell_type": "code",
   "execution_count": 10,
   "metadata": {},
   "outputs": [
    {
     "data": {
      "text/plain": "   Unnamed: 0  Id  Expected  Rooms  SqrMeters  Floor  \\\n0           0   1    269000      3      55.00      1   \n1           1   2    320000      3      79.00     10   \n2           2   3    146000      1      31.21      1   \n3           3   4    189000      2      44.00      2   \n4           4   5    480240      2      65.25      1   \n\n                                            Location Borough  \n0                                      Poznań Zawady    Inne  \n1                     Poznań Rataje ul. Orła Bialego  Rataje  \n2  Poznań Nowe Miasto ul. Kawalerka W Nowym Bloku...    Inne  \n3  Poznań Grunwald Ogrody Jeżyce Centrum Łazarz u...  Jeżyce  \n4                       Poznań ul. Droga Dębińska 19    Inne  ",
      "text/html": "<div>\n<style scoped>\n    .dataframe tbody tr th:only-of-type {\n        vertical-align: middle;\n    }\n\n    .dataframe tbody tr th {\n        vertical-align: top;\n    }\n\n    .dataframe thead th {\n        text-align: right;\n    }\n</style>\n<table border=\"1\" class=\"dataframe\">\n  <thead>\n    <tr style=\"text-align: right;\">\n      <th></th>\n      <th>Unnamed: 0</th>\n      <th>Id</th>\n      <th>Expected</th>\n      <th>Rooms</th>\n      <th>SqrMeters</th>\n      <th>Floor</th>\n      <th>Location</th>\n      <th>Borough</th>\n    </tr>\n  </thead>\n  <tbody>\n    <tr>\n      <th>0</th>\n      <td>0</td>\n      <td>1</td>\n      <td>269000</td>\n      <td>3</td>\n      <td>55.00</td>\n      <td>1</td>\n      <td>Poznań Zawady</td>\n      <td>Inne</td>\n    </tr>\n    <tr>\n      <th>1</th>\n      <td>1</td>\n      <td>2</td>\n      <td>320000</td>\n      <td>3</td>\n      <td>79.00</td>\n      <td>10</td>\n      <td>Poznań Rataje ul. Orła Bialego</td>\n      <td>Rataje</td>\n    </tr>\n    <tr>\n      <th>2</th>\n      <td>2</td>\n      <td>3</td>\n      <td>146000</td>\n      <td>1</td>\n      <td>31.21</td>\n      <td>1</td>\n      <td>Poznań Nowe Miasto ul. Kawalerka W Nowym Bloku...</td>\n      <td>Inne</td>\n    </tr>\n    <tr>\n      <th>3</th>\n      <td>3</td>\n      <td>4</td>\n      <td>189000</td>\n      <td>2</td>\n      <td>44.00</td>\n      <td>2</td>\n      <td>Poznań Grunwald Ogrody Jeżyce Centrum Łazarz u...</td>\n      <td>Jeżyce</td>\n    </tr>\n    <tr>\n      <th>4</th>\n      <td>4</td>\n      <td>5</td>\n      <td>480240</td>\n      <td>2</td>\n      <td>65.25</td>\n      <td>1</td>\n      <td>Poznań ul. Droga Dębińska 19</td>\n      <td>Inne</td>\n    </tr>\n  </tbody>\n</table>\n</div>"
     },
     "execution_count": 10,
     "metadata": {},
     "output_type": "execute_result"
    }
   ],
   "source": [
    "df = df.assign(Borough = lambda r: r['Location'].apply(find_borough))\n",
    "df.head()"
   ]
  },
  {
   "cell_type": "markdown",
   "metadata": {},
   "source": [
    "7. Oblicz średnią cenę za metr kwadaratowy dla całego zbioru danych oraz z podziałem na poszczególne dzielnice."
   ]
  },
  {
   "cell_type": "code",
   "execution_count": 13,
   "metadata": {},
   "outputs": [
    {
     "data": {
      "text/plain": "Borough\nDębiec          4855.836783\nInne            5681.655798\nJeżyce          5612.074472\nPiątkowo        5784.994686\nRataje          5475.153982\nStare Miasto    9008.936060\nWilda           5489.441432\nWinogrady       8889.044553\nName: SqPrice, dtype: float64"
     },
     "execution_count": 13,
     "metadata": {},
     "output_type": "execute_result"
    }
   ],
   "source": [
    "df['SqPrice'] = df['Expected'] / df['SqrMeters']\n",
    "df.groupby('Borough')['SqPrice'].mean()"
   ]
  },
  {
   "cell_type": "markdown",
   "metadata": {},
   "source": [
    "8. Znajdź średnią cenę mieszkania n-pokojowego."
   ]
  },
  {
   "cell_type": "code",
   "execution_count": 16,
   "metadata": {},
   "outputs": [
    {
     "data": {
      "text/plain": "Rooms\n1       251,577.85\n2       303,861.86\n3       383,533.64\n4       456,560.24\n5       613,355.19\n6     1,069,136.69\n7       520,000.00\n10      320,000.00\nName: Expected, dtype: object"
     },
     "execution_count": 16,
     "metadata": {},
     "output_type": "execute_result"
    }
   ],
   "source": [
    "df.groupby('Rooms')['Expected'].mean().map('{:,.2f}'.format)"
   ]
  },
  {
   "cell_type": "markdown",
   "metadata": {},
   "source": [
    "9. Znajdź dzielnice, które zawierają oferty mieszkań na 13 piętrze."
   ]
  },
  {
   "cell_type": "code",
   "execution_count": 41,
   "metadata": {},
   "outputs": [
    {
     "data": {
      "text/plain": "array(['Winogrady', 'Stare Miasto'], dtype=object)"
     },
     "execution_count": 41,
     "metadata": {},
     "output_type": "execute_result"
    }
   ],
   "source": [
    "df[df['Floor'] == 13]['Borough'].unique()"
   ]
  },
  {
   "cell_type": "markdown",
   "metadata": {},
   "source": [
    "10. Znajdź wszystkie ogłoszenia mieszkań, które znajdują się na Winogradach, mają 3 pokoje i są położone na 1 piętrze."
   ]
  },
  {
   "cell_type": "code",
   "execution_count": 45,
   "metadata": {},
   "outputs": [
    {
     "data": {
      "text/plain": "      Unnamed: 0    Id  Expected  Rooms  SqrMeters  Floor  \\\n44            44    45    345000      3      84.00      1   \n105          105   106    275000      3      53.00      1   \n175          175   176    326073      3      53.02      1   \n521          521   522    359000      3      68.00      1   \n530          530   531    374906      3      67.10      1   \n618          618   619    300685      3      49.70      1   \n774          774   775    408456      3      65.88      1   \n796          796   797    279000      3      48.00      1   \n845          845   846    280000      3      48.00      1   \n863          863   864    342000      3      84.00      1   \n869          869   870    314782      3      52.03      1   \n940          940   941    312967      3      51.73      1   \n968          968   969    285000      3      53.00      1   \n1106        1106  1107    288446      3      48.35      1   \n1123        1123  1124    319000      3      57.00      1   \n1133        1133  1134    279000      3      47.60      1   \n1279        1279  1280    280000      3      48.00      1   \n1373        1373  1374    299000      3      57.17      1   \n1385        1385  1386    285000      3      53.00      1   \n1391        1391  1392    320771      3      53.02      1   \n1410        1410  1411    310401      3      52.03      1   \n1476        1476  1477    399000      3      80.00      1   \n1485        1485  1486    265000      3      52.80      1   \n1519        1519  1520    408456      3      65.88      1   \n1706        1706  1707    329271      3      53.54      1   \n1903        1903  1904    328636      3      54.32      1   \n2037        2037  2038    364935      3      65.40      1   \n2045        2045  2046    275397      3      44.78      1   \n2069        2069  2070    308066      3      50.92      1   \n2092        2092  2093    301452      3      54.70      1   \n2273        2273  2274    480000      3      62.77      1   \n2303        2303  2304    380932      3      64.13      1   \n2316        2316  2317    280000      3      48.00      1   \n2324        2324  2325    303779      3      50.92      1   \n2355        2355  2356    331816      3      56.24      1   \n2416        2416  2417    310673      3      50.93      1   \n2659        2659  2660    329000      3      75.00      1   \n2740        2740  2741    288446      3      48.35      1   \n2833        2833  2834    320000      3      53.00      1   \n2835        2835  2836    326761      3      54.01      1   \n3154        3154  3155    350000      3      76.80      1   \n3365        3365  3366    334928      3      55.36      1   \n3379        3379  3380    292518      3      48.35      1   \n3406        3406  3407    319000      3      64.90      1   \n3500        3500  3501    320000      3      53.00      1   \n3599        3599  3600    339000      3      58.00      1   \n3750        3750  3751    213000      3      59.30      1   \n4034        4034  4035    419000      3      78.00      1   \n4133        4133  4134    359000      3      59.00      1   \n4244        4244  4245    323917      3      53.54      1   \n4291        4291  4292    312442      3      51.22      1   \n4314        4314  4315    295068      3      49.46      1   \n4430        4430  4431    285000      3      53.00      1   \n4493        4493  4494    308611      3      51.73      1   \n4536        4536  4537    285000      3      48.00      1   \n4569        4569  4570    344101      3      56.41      1   \n4678        4678  4679    329000      3      75.20      1   \n4716        4716  4717    358765      3      59.30      1   \n4862        4862  4863    289000      3      58.00      1   \n4969        4969  4970    296560      3      49.71      1   \n\n                                               Location    Borough  \\\n44    Poznań Winogrady Stare Miasto ul. Powstańców W...  Winogrady   \n105              Poznań Winogrady ul. Oś. Zwycięstwa 26  Winogrady   \n175                     Poznań Winogrady ul. Hawelańska  Winogrady   \n521                                    Poznań Winogrady  Winogrady   \n530   Poznań Winogrady Piątkowo Naramowice Stare Mia...  Winogrady   \n618                     Poznań Winogrady ul. Hawelańska  Winogrady   \n774                     Poznań Winogrady ul. Hawelańska  Winogrady   \n796                      Poznań Winogrady ul. Winogrady  Winogrady   \n845                  Poznań Winogrady ul. Os. Przyjaźni  Winogrady   \n863            Poznań Winogrady ul. Powstańców Warszawy  Winogrady   \n869                     Poznań Winogrady ul. Hawelańska  Winogrady   \n940                     Poznań Winogrady ul. Hawelańska  Winogrady   \n968             Poznań Winogrady ul. Osiedle Zwycięstwa  Winogrady   \n1106                    Poznań Winogrady ul. Hawelańska  Winogrady   \n1123  Poznań Naramowice Winogrady Piątkowo ul. Naram...  Winogrady   \n1133                 Poznań Winogrady ul. Os. Przyjaźni  Winogrady   \n1279  Poznań Winogrady Piątkowo Naramowice ul. Pod L...  Winogrady   \n1373                    Poznań Winogrady ul. Hawelańska  Winogrady   \n1385  Poznań Winogrady Piątkowo Sołacz Naramowice ul...  Winogrady   \n1391                    Poznań Winogrady ul. Hawelańska  Winogrady   \n1410                    Poznań Winogrady ul. Hawelańska  Winogrady   \n1476  Poznań Piatkowo Winogrady Naramowice Sołacz Wi...  Winogrady   \n1485               Poznań Winogrady ul. Wichrowe Wzgóze  Winogrady   \n1519              Poznań Winogrady ul. Lechicka Okolice  Winogrady   \n1706                    Poznań Winogrady ul. Hawelańska  Winogrady   \n1903                    Poznań Winogrady ul. Hawelańska  Winogrady   \n2037  Poznań Winogrady Piątkowo Naramowice Stare Mia...  Winogrady   \n2045                    Poznań Winogrady ul. Hawelańska  Winogrady   \n2069                    Poznań Winogrady ul. Hawelańska  Winogrady   \n2092  Poznań Winogrady Piątkowo Naramowice Stare Mia...  Winogrady   \n2273                   Poznań Winogrady ul. Naramowicka  Winogrady   \n2303                    Poznań Winogrady ul. Hawelańska  Winogrady   \n2316  Poznań Winogrady Piątkowo Sołacz Naramowice Ce...  Winogrady   \n2324                    Poznań Winogrady ul. Hawelańska  Winogrady   \n2355                    Poznań Winogrady ul. Hawelańska  Winogrady   \n2416              Poznań Winogrady ul. Lechicka Okolice  Winogrady   \n2659       Poznań Winogrady ul. Idealne 3 Pok. Na Biuro  Winogrady   \n2740                                   Poznań Winogrady  Winogrady   \n2833                Poznań Winogrady ul. Os. Zwycięstwa  Winogrady   \n2835                    Poznań Winogrady ul. Hawelańska  Winogrady   \n3154                       Poznań Winogrady ul. Wilczak  Winogrady   \n3365                    Poznań Winogrady ul. Hawelańska  Winogrady   \n3379                    Poznań Winogrady ul. Hawelańska  Winogrady   \n3406          Poznań Winogrady ul. Os. Wichrowe Wzgórze  Winogrady   \n3500                                   Poznań Winogrady  Winogrady   \n3599  Poznań Winogrady ul. Strzeszynska Winogrady Po...  Winogrady   \n3750                    Poznań Winogrady ul. Hawelańska  Winogrady   \n4034  Poznań Sołacz Bonin Winiary Winogrady Piątko u...  Winogrady   \n4133             Poznań Winogrady ul. Piątkowska Ataner  Winogrady   \n4244                    Poznań Winogrady ul. Hawelańska  Winogrady   \n4291              Poznań Winogrady ul. Lechicka Okolice  Winogrady   \n4314                    Poznań Winogrady ul. Hawelańska  Winogrady   \n4430                                   Poznań Winogrady  Winogrady   \n4493                    Poznań Winogrady ul. Hawelańska  Winogrady   \n4536                                   Poznań Winogrady  Winogrady   \n4569                    Poznań Winogrady ul. Hawelańska  Winogrady   \n4678         Poznań Winogrady ul. Wilczak Dopłata W Mdm  Winogrady   \n4716                    Poznań Winogrady ul. Hawelańska  Winogrady   \n4862  Poznań Sołacz Winogrady Piątkowo Naramowice ul...  Winogrady   \n4969                    Poznań Winogrady ul. Hawelańska  Winogrady   \n\n          SqPrice  \n44    4107.142857  \n105   5188.679245  \n175   6150.000000  \n521   5279.411765  \n530   5587.272727  \n618   6050.000000  \n774   6200.000000  \n796   5812.500000  \n845   5833.333333  \n863   4071.428571  \n869   6050.009610  \n940   6050.009666  \n968   5377.358491  \n1106  5965.791107  \n1123  5596.491228  \n1133  5861.344538  \n1279  5833.333333  \n1373  5230.015743  \n1385  5377.358491  \n1391  6050.000000  \n1410  5965.808188  \n1476  4987.500000  \n1485  5018.939394  \n1519  6200.000000  \n1706  6150.000000  \n1903  6050.000000  \n2037  5580.045872  \n2045  6150.000000  \n2069  6050.000000  \n2092  5511.005484  \n2273  7646.965111  \n2303  5939.996881  \n2316  5833.333333  \n2324  5965.809112  \n2355  5900.000000  \n2416  6100.000000  \n2659  4386.666667  \n2740  5965.791107  \n2833  6037.735849  \n2835  6050.009258  \n3154  4557.291667  \n3365  6050.000000  \n3379  6050.010341  \n3406  4915.254237  \n3500  6037.735849  \n3599  5844.827586  \n3750  3591.905565  \n4034  5371.794872  \n4133  6084.745763  \n4244  6050.000000  \n4291  6100.000000  \n4314  5965.790538  \n4430  5377.358491  \n4493  5965.803209  \n4536  5937.500000  \n4569  6100.000000  \n4678  4375.000000  \n4716  6050.000000  \n4862  4982.758621  \n4969  5965.801650  ",
      "text/html": "<div>\n<style scoped>\n    .dataframe tbody tr th:only-of-type {\n        vertical-align: middle;\n    }\n\n    .dataframe tbody tr th {\n        vertical-align: top;\n    }\n\n    .dataframe thead th {\n        text-align: right;\n    }\n</style>\n<table border=\"1\" class=\"dataframe\">\n  <thead>\n    <tr style=\"text-align: right;\">\n      <th></th>\n      <th>Unnamed: 0</th>\n      <th>Id</th>\n      <th>Expected</th>\n      <th>Rooms</th>\n      <th>SqrMeters</th>\n      <th>Floor</th>\n      <th>Location</th>\n      <th>Borough</th>\n      <th>SqPrice</th>\n    </tr>\n  </thead>\n  <tbody>\n    <tr>\n      <th>44</th>\n      <td>44</td>\n      <td>45</td>\n      <td>345000</td>\n      <td>3</td>\n      <td>84.00</td>\n      <td>1</td>\n      <td>Poznań Winogrady Stare Miasto ul. Powstańców W...</td>\n      <td>Winogrady</td>\n      <td>4107.142857</td>\n    </tr>\n    <tr>\n      <th>105</th>\n      <td>105</td>\n      <td>106</td>\n      <td>275000</td>\n      <td>3</td>\n      <td>53.00</td>\n      <td>1</td>\n      <td>Poznań Winogrady ul. Oś. Zwycięstwa 26</td>\n      <td>Winogrady</td>\n      <td>5188.679245</td>\n    </tr>\n    <tr>\n      <th>175</th>\n      <td>175</td>\n      <td>176</td>\n      <td>326073</td>\n      <td>3</td>\n      <td>53.02</td>\n      <td>1</td>\n      <td>Poznań Winogrady ul. Hawelańska</td>\n      <td>Winogrady</td>\n      <td>6150.000000</td>\n    </tr>\n    <tr>\n      <th>521</th>\n      <td>521</td>\n      <td>522</td>\n      <td>359000</td>\n      <td>3</td>\n      <td>68.00</td>\n      <td>1</td>\n      <td>Poznań Winogrady</td>\n      <td>Winogrady</td>\n      <td>5279.411765</td>\n    </tr>\n    <tr>\n      <th>530</th>\n      <td>530</td>\n      <td>531</td>\n      <td>374906</td>\n      <td>3</td>\n      <td>67.10</td>\n      <td>1</td>\n      <td>Poznań Winogrady Piątkowo Naramowice Stare Mia...</td>\n      <td>Winogrady</td>\n      <td>5587.272727</td>\n    </tr>\n    <tr>\n      <th>618</th>\n      <td>618</td>\n      <td>619</td>\n      <td>300685</td>\n      <td>3</td>\n      <td>49.70</td>\n      <td>1</td>\n      <td>Poznań Winogrady ul. Hawelańska</td>\n      <td>Winogrady</td>\n      <td>6050.000000</td>\n    </tr>\n    <tr>\n      <th>774</th>\n      <td>774</td>\n      <td>775</td>\n      <td>408456</td>\n      <td>3</td>\n      <td>65.88</td>\n      <td>1</td>\n      <td>Poznań Winogrady ul. Hawelańska</td>\n      <td>Winogrady</td>\n      <td>6200.000000</td>\n    </tr>\n    <tr>\n      <th>796</th>\n      <td>796</td>\n      <td>797</td>\n      <td>279000</td>\n      <td>3</td>\n      <td>48.00</td>\n      <td>1</td>\n      <td>Poznań Winogrady ul. Winogrady</td>\n      <td>Winogrady</td>\n      <td>5812.500000</td>\n    </tr>\n    <tr>\n      <th>845</th>\n      <td>845</td>\n      <td>846</td>\n      <td>280000</td>\n      <td>3</td>\n      <td>48.00</td>\n      <td>1</td>\n      <td>Poznań Winogrady ul. Os. Przyjaźni</td>\n      <td>Winogrady</td>\n      <td>5833.333333</td>\n    </tr>\n    <tr>\n      <th>863</th>\n      <td>863</td>\n      <td>864</td>\n      <td>342000</td>\n      <td>3</td>\n      <td>84.00</td>\n      <td>1</td>\n      <td>Poznań Winogrady ul. Powstańców Warszawy</td>\n      <td>Winogrady</td>\n      <td>4071.428571</td>\n    </tr>\n    <tr>\n      <th>869</th>\n      <td>869</td>\n      <td>870</td>\n      <td>314782</td>\n      <td>3</td>\n      <td>52.03</td>\n      <td>1</td>\n      <td>Poznań Winogrady ul. Hawelańska</td>\n      <td>Winogrady</td>\n      <td>6050.009610</td>\n    </tr>\n    <tr>\n      <th>940</th>\n      <td>940</td>\n      <td>941</td>\n      <td>312967</td>\n      <td>3</td>\n      <td>51.73</td>\n      <td>1</td>\n      <td>Poznań Winogrady ul. Hawelańska</td>\n      <td>Winogrady</td>\n      <td>6050.009666</td>\n    </tr>\n    <tr>\n      <th>968</th>\n      <td>968</td>\n      <td>969</td>\n      <td>285000</td>\n      <td>3</td>\n      <td>53.00</td>\n      <td>1</td>\n      <td>Poznań Winogrady ul. Osiedle Zwycięstwa</td>\n      <td>Winogrady</td>\n      <td>5377.358491</td>\n    </tr>\n    <tr>\n      <th>1106</th>\n      <td>1106</td>\n      <td>1107</td>\n      <td>288446</td>\n      <td>3</td>\n      <td>48.35</td>\n      <td>1</td>\n      <td>Poznań Winogrady ul. Hawelańska</td>\n      <td>Winogrady</td>\n      <td>5965.791107</td>\n    </tr>\n    <tr>\n      <th>1123</th>\n      <td>1123</td>\n      <td>1124</td>\n      <td>319000</td>\n      <td>3</td>\n      <td>57.00</td>\n      <td>1</td>\n      <td>Poznań Naramowice Winogrady Piątkowo ul. Naram...</td>\n      <td>Winogrady</td>\n      <td>5596.491228</td>\n    </tr>\n    <tr>\n      <th>1133</th>\n      <td>1133</td>\n      <td>1134</td>\n      <td>279000</td>\n      <td>3</td>\n      <td>47.60</td>\n      <td>1</td>\n      <td>Poznań Winogrady ul. Os. Przyjaźni</td>\n      <td>Winogrady</td>\n      <td>5861.344538</td>\n    </tr>\n    <tr>\n      <th>1279</th>\n      <td>1279</td>\n      <td>1280</td>\n      <td>280000</td>\n      <td>3</td>\n      <td>48.00</td>\n      <td>1</td>\n      <td>Poznań Winogrady Piątkowo Naramowice ul. Pod L...</td>\n      <td>Winogrady</td>\n      <td>5833.333333</td>\n    </tr>\n    <tr>\n      <th>1373</th>\n      <td>1373</td>\n      <td>1374</td>\n      <td>299000</td>\n      <td>3</td>\n      <td>57.17</td>\n      <td>1</td>\n      <td>Poznań Winogrady ul. Hawelańska</td>\n      <td>Winogrady</td>\n      <td>5230.015743</td>\n    </tr>\n    <tr>\n      <th>1385</th>\n      <td>1385</td>\n      <td>1386</td>\n      <td>285000</td>\n      <td>3</td>\n      <td>53.00</td>\n      <td>1</td>\n      <td>Poznań Winogrady Piątkowo Sołacz Naramowice ul...</td>\n      <td>Winogrady</td>\n      <td>5377.358491</td>\n    </tr>\n    <tr>\n      <th>1391</th>\n      <td>1391</td>\n      <td>1392</td>\n      <td>320771</td>\n      <td>3</td>\n      <td>53.02</td>\n      <td>1</td>\n      <td>Poznań Winogrady ul. Hawelańska</td>\n      <td>Winogrady</td>\n      <td>6050.000000</td>\n    </tr>\n    <tr>\n      <th>1410</th>\n      <td>1410</td>\n      <td>1411</td>\n      <td>310401</td>\n      <td>3</td>\n      <td>52.03</td>\n      <td>1</td>\n      <td>Poznań Winogrady ul. Hawelańska</td>\n      <td>Winogrady</td>\n      <td>5965.808188</td>\n    </tr>\n    <tr>\n      <th>1476</th>\n      <td>1476</td>\n      <td>1477</td>\n      <td>399000</td>\n      <td>3</td>\n      <td>80.00</td>\n      <td>1</td>\n      <td>Poznań Piatkowo Winogrady Naramowice Sołacz Wi...</td>\n      <td>Winogrady</td>\n      <td>4987.500000</td>\n    </tr>\n    <tr>\n      <th>1485</th>\n      <td>1485</td>\n      <td>1486</td>\n      <td>265000</td>\n      <td>3</td>\n      <td>52.80</td>\n      <td>1</td>\n      <td>Poznań Winogrady ul. Wichrowe Wzgóze</td>\n      <td>Winogrady</td>\n      <td>5018.939394</td>\n    </tr>\n    <tr>\n      <th>1519</th>\n      <td>1519</td>\n      <td>1520</td>\n      <td>408456</td>\n      <td>3</td>\n      <td>65.88</td>\n      <td>1</td>\n      <td>Poznań Winogrady ul. Lechicka Okolice</td>\n      <td>Winogrady</td>\n      <td>6200.000000</td>\n    </tr>\n    <tr>\n      <th>1706</th>\n      <td>1706</td>\n      <td>1707</td>\n      <td>329271</td>\n      <td>3</td>\n      <td>53.54</td>\n      <td>1</td>\n      <td>Poznań Winogrady ul. Hawelańska</td>\n      <td>Winogrady</td>\n      <td>6150.000000</td>\n    </tr>\n    <tr>\n      <th>1903</th>\n      <td>1903</td>\n      <td>1904</td>\n      <td>328636</td>\n      <td>3</td>\n      <td>54.32</td>\n      <td>1</td>\n      <td>Poznań Winogrady ul. Hawelańska</td>\n      <td>Winogrady</td>\n      <td>6050.000000</td>\n    </tr>\n    <tr>\n      <th>2037</th>\n      <td>2037</td>\n      <td>2038</td>\n      <td>364935</td>\n      <td>3</td>\n      <td>65.40</td>\n      <td>1</td>\n      <td>Poznań Winogrady Piątkowo Naramowice Stare Mia...</td>\n      <td>Winogrady</td>\n      <td>5580.045872</td>\n    </tr>\n    <tr>\n      <th>2045</th>\n      <td>2045</td>\n      <td>2046</td>\n      <td>275397</td>\n      <td>3</td>\n      <td>44.78</td>\n      <td>1</td>\n      <td>Poznań Winogrady ul. Hawelańska</td>\n      <td>Winogrady</td>\n      <td>6150.000000</td>\n    </tr>\n    <tr>\n      <th>2069</th>\n      <td>2069</td>\n      <td>2070</td>\n      <td>308066</td>\n      <td>3</td>\n      <td>50.92</td>\n      <td>1</td>\n      <td>Poznań Winogrady ul. Hawelańska</td>\n      <td>Winogrady</td>\n      <td>6050.000000</td>\n    </tr>\n    <tr>\n      <th>2092</th>\n      <td>2092</td>\n      <td>2093</td>\n      <td>301452</td>\n      <td>3</td>\n      <td>54.70</td>\n      <td>1</td>\n      <td>Poznań Winogrady Piątkowo Naramowice Stare Mia...</td>\n      <td>Winogrady</td>\n      <td>5511.005484</td>\n    </tr>\n    <tr>\n      <th>2273</th>\n      <td>2273</td>\n      <td>2274</td>\n      <td>480000</td>\n      <td>3</td>\n      <td>62.77</td>\n      <td>1</td>\n      <td>Poznań Winogrady ul. Naramowicka</td>\n      <td>Winogrady</td>\n      <td>7646.965111</td>\n    </tr>\n    <tr>\n      <th>2303</th>\n      <td>2303</td>\n      <td>2304</td>\n      <td>380932</td>\n      <td>3</td>\n      <td>64.13</td>\n      <td>1</td>\n      <td>Poznań Winogrady ul. Hawelańska</td>\n      <td>Winogrady</td>\n      <td>5939.996881</td>\n    </tr>\n    <tr>\n      <th>2316</th>\n      <td>2316</td>\n      <td>2317</td>\n      <td>280000</td>\n      <td>3</td>\n      <td>48.00</td>\n      <td>1</td>\n      <td>Poznań Winogrady Piątkowo Sołacz Naramowice Ce...</td>\n      <td>Winogrady</td>\n      <td>5833.333333</td>\n    </tr>\n    <tr>\n      <th>2324</th>\n      <td>2324</td>\n      <td>2325</td>\n      <td>303779</td>\n      <td>3</td>\n      <td>50.92</td>\n      <td>1</td>\n      <td>Poznań Winogrady ul. Hawelańska</td>\n      <td>Winogrady</td>\n      <td>5965.809112</td>\n    </tr>\n    <tr>\n      <th>2355</th>\n      <td>2355</td>\n      <td>2356</td>\n      <td>331816</td>\n      <td>3</td>\n      <td>56.24</td>\n      <td>1</td>\n      <td>Poznań Winogrady ul. Hawelańska</td>\n      <td>Winogrady</td>\n      <td>5900.000000</td>\n    </tr>\n    <tr>\n      <th>2416</th>\n      <td>2416</td>\n      <td>2417</td>\n      <td>310673</td>\n      <td>3</td>\n      <td>50.93</td>\n      <td>1</td>\n      <td>Poznań Winogrady ul. Lechicka Okolice</td>\n      <td>Winogrady</td>\n      <td>6100.000000</td>\n    </tr>\n    <tr>\n      <th>2659</th>\n      <td>2659</td>\n      <td>2660</td>\n      <td>329000</td>\n      <td>3</td>\n      <td>75.00</td>\n      <td>1</td>\n      <td>Poznań Winogrady ul. Idealne 3 Pok. Na Biuro</td>\n      <td>Winogrady</td>\n      <td>4386.666667</td>\n    </tr>\n    <tr>\n      <th>2740</th>\n      <td>2740</td>\n      <td>2741</td>\n      <td>288446</td>\n      <td>3</td>\n      <td>48.35</td>\n      <td>1</td>\n      <td>Poznań Winogrady</td>\n      <td>Winogrady</td>\n      <td>5965.791107</td>\n    </tr>\n    <tr>\n      <th>2833</th>\n      <td>2833</td>\n      <td>2834</td>\n      <td>320000</td>\n      <td>3</td>\n      <td>53.00</td>\n      <td>1</td>\n      <td>Poznań Winogrady ul. Os. Zwycięstwa</td>\n      <td>Winogrady</td>\n      <td>6037.735849</td>\n    </tr>\n    <tr>\n      <th>2835</th>\n      <td>2835</td>\n      <td>2836</td>\n      <td>326761</td>\n      <td>3</td>\n      <td>54.01</td>\n      <td>1</td>\n      <td>Poznań Winogrady ul. Hawelańska</td>\n      <td>Winogrady</td>\n      <td>6050.009258</td>\n    </tr>\n    <tr>\n      <th>3154</th>\n      <td>3154</td>\n      <td>3155</td>\n      <td>350000</td>\n      <td>3</td>\n      <td>76.80</td>\n      <td>1</td>\n      <td>Poznań Winogrady ul. Wilczak</td>\n      <td>Winogrady</td>\n      <td>4557.291667</td>\n    </tr>\n    <tr>\n      <th>3365</th>\n      <td>3365</td>\n      <td>3366</td>\n      <td>334928</td>\n      <td>3</td>\n      <td>55.36</td>\n      <td>1</td>\n      <td>Poznań Winogrady ul. Hawelańska</td>\n      <td>Winogrady</td>\n      <td>6050.000000</td>\n    </tr>\n    <tr>\n      <th>3379</th>\n      <td>3379</td>\n      <td>3380</td>\n      <td>292518</td>\n      <td>3</td>\n      <td>48.35</td>\n      <td>1</td>\n      <td>Poznań Winogrady ul. Hawelańska</td>\n      <td>Winogrady</td>\n      <td>6050.010341</td>\n    </tr>\n    <tr>\n      <th>3406</th>\n      <td>3406</td>\n      <td>3407</td>\n      <td>319000</td>\n      <td>3</td>\n      <td>64.90</td>\n      <td>1</td>\n      <td>Poznań Winogrady ul. Os. Wichrowe Wzgórze</td>\n      <td>Winogrady</td>\n      <td>4915.254237</td>\n    </tr>\n    <tr>\n      <th>3500</th>\n      <td>3500</td>\n      <td>3501</td>\n      <td>320000</td>\n      <td>3</td>\n      <td>53.00</td>\n      <td>1</td>\n      <td>Poznań Winogrady</td>\n      <td>Winogrady</td>\n      <td>6037.735849</td>\n    </tr>\n    <tr>\n      <th>3599</th>\n      <td>3599</td>\n      <td>3600</td>\n      <td>339000</td>\n      <td>3</td>\n      <td>58.00</td>\n      <td>1</td>\n      <td>Poznań Winogrady ul. Strzeszynska Winogrady Po...</td>\n      <td>Winogrady</td>\n      <td>5844.827586</td>\n    </tr>\n    <tr>\n      <th>3750</th>\n      <td>3750</td>\n      <td>3751</td>\n      <td>213000</td>\n      <td>3</td>\n      <td>59.30</td>\n      <td>1</td>\n      <td>Poznań Winogrady ul. Hawelańska</td>\n      <td>Winogrady</td>\n      <td>3591.905565</td>\n    </tr>\n    <tr>\n      <th>4034</th>\n      <td>4034</td>\n      <td>4035</td>\n      <td>419000</td>\n      <td>3</td>\n      <td>78.00</td>\n      <td>1</td>\n      <td>Poznań Sołacz Bonin Winiary Winogrady Piątko u...</td>\n      <td>Winogrady</td>\n      <td>5371.794872</td>\n    </tr>\n    <tr>\n      <th>4133</th>\n      <td>4133</td>\n      <td>4134</td>\n      <td>359000</td>\n      <td>3</td>\n      <td>59.00</td>\n      <td>1</td>\n      <td>Poznań Winogrady ul. Piątkowska Ataner</td>\n      <td>Winogrady</td>\n      <td>6084.745763</td>\n    </tr>\n    <tr>\n      <th>4244</th>\n      <td>4244</td>\n      <td>4245</td>\n      <td>323917</td>\n      <td>3</td>\n      <td>53.54</td>\n      <td>1</td>\n      <td>Poznań Winogrady ul. Hawelańska</td>\n      <td>Winogrady</td>\n      <td>6050.000000</td>\n    </tr>\n    <tr>\n      <th>4291</th>\n      <td>4291</td>\n      <td>4292</td>\n      <td>312442</td>\n      <td>3</td>\n      <td>51.22</td>\n      <td>1</td>\n      <td>Poznań Winogrady ul. Lechicka Okolice</td>\n      <td>Winogrady</td>\n      <td>6100.000000</td>\n    </tr>\n    <tr>\n      <th>4314</th>\n      <td>4314</td>\n      <td>4315</td>\n      <td>295068</td>\n      <td>3</td>\n      <td>49.46</td>\n      <td>1</td>\n      <td>Poznań Winogrady ul. Hawelańska</td>\n      <td>Winogrady</td>\n      <td>5965.790538</td>\n    </tr>\n    <tr>\n      <th>4430</th>\n      <td>4430</td>\n      <td>4431</td>\n      <td>285000</td>\n      <td>3</td>\n      <td>53.00</td>\n      <td>1</td>\n      <td>Poznań Winogrady</td>\n      <td>Winogrady</td>\n      <td>5377.358491</td>\n    </tr>\n    <tr>\n      <th>4493</th>\n      <td>4493</td>\n      <td>4494</td>\n      <td>308611</td>\n      <td>3</td>\n      <td>51.73</td>\n      <td>1</td>\n      <td>Poznań Winogrady ul. Hawelańska</td>\n      <td>Winogrady</td>\n      <td>5965.803209</td>\n    </tr>\n    <tr>\n      <th>4536</th>\n      <td>4536</td>\n      <td>4537</td>\n      <td>285000</td>\n      <td>3</td>\n      <td>48.00</td>\n      <td>1</td>\n      <td>Poznań Winogrady</td>\n      <td>Winogrady</td>\n      <td>5937.500000</td>\n    </tr>\n    <tr>\n      <th>4569</th>\n      <td>4569</td>\n      <td>4570</td>\n      <td>344101</td>\n      <td>3</td>\n      <td>56.41</td>\n      <td>1</td>\n      <td>Poznań Winogrady ul. Hawelańska</td>\n      <td>Winogrady</td>\n      <td>6100.000000</td>\n    </tr>\n    <tr>\n      <th>4678</th>\n      <td>4678</td>\n      <td>4679</td>\n      <td>329000</td>\n      <td>3</td>\n      <td>75.20</td>\n      <td>1</td>\n      <td>Poznań Winogrady ul. Wilczak Dopłata W Mdm</td>\n      <td>Winogrady</td>\n      <td>4375.000000</td>\n    </tr>\n    <tr>\n      <th>4716</th>\n      <td>4716</td>\n      <td>4717</td>\n      <td>358765</td>\n      <td>3</td>\n      <td>59.30</td>\n      <td>1</td>\n      <td>Poznań Winogrady ul. Hawelańska</td>\n      <td>Winogrady</td>\n      <td>6050.000000</td>\n    </tr>\n    <tr>\n      <th>4862</th>\n      <td>4862</td>\n      <td>4863</td>\n      <td>289000</td>\n      <td>3</td>\n      <td>58.00</td>\n      <td>1</td>\n      <td>Poznań Sołacz Winogrady Piątkowo Naramowice ul...</td>\n      <td>Winogrady</td>\n      <td>4982.758621</td>\n    </tr>\n    <tr>\n      <th>4969</th>\n      <td>4969</td>\n      <td>4970</td>\n      <td>296560</td>\n      <td>3</td>\n      <td>49.71</td>\n      <td>1</td>\n      <td>Poznań Winogrady ul. Hawelańska</td>\n      <td>Winogrady</td>\n      <td>5965.801650</td>\n    </tr>\n  </tbody>\n</table>\n</div>"
     },
     "execution_count": 45,
     "metadata": {},
     "output_type": "execute_result"
    }
   ],
   "source": [
    "df[(df['Floor'] == 1) & (df['Rooms'] == 3) & (df['Borough'] == 'Winogrady')]"
   ]
  }
 ],
 "metadata": {
  "kernelspec": {
   "display_name": "Python 3 (ipykernel)",
   "language": "python",
   "name": "python3"
  },
  "language_info": {
   "codemirror_mode": {
    "name": "ipython",
    "version": 3
   },
   "file_extension": ".py",
   "mimetype": "text/x-python",
   "name": "python",
   "nbconvert_exporter": "python",
   "pygments_lexer": "ipython3",
   "version": "3.9.13"
  }
 },
 "nbformat": 4,
 "nbformat_minor": 2
}
